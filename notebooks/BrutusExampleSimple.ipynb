{
 "cells": [
  {
   "cell_type": "code",
   "execution_count": null,
   "id": "wound-alarm",
   "metadata": {
    "autoscroll": false,
    "ein.hycell": false,
    "ein.tags": "worksheet-0",
    "slideshow": {
     "slide_type": "-"
    }
   },
   "outputs": [],
   "source": [
    "import numpy\n",
    "import sys\n",
    "import matplotlib\n",
    "from matplotlib import pyplot\n",
    "import brutus\n",
    "import imp; imp.reload(brutus)"
   ]
  },
  {
   "cell_type": "code",
   "execution_count": null,
   "id": "affecting-forward",
   "metadata": {
    "autoscroll": false,
    "ein.hycell": false,
    "ein.tags": "worksheet-0",
    "slideshow": {
     "slide_type": "-"
    }
   },
   "outputs": [],
   "source": [
    "X=numpy.linspace(0, 2*numpy.pi, 256)\n",
    "Y=numpy.sin(X*4) + numpy.cos(X*10)"
   ]
  },
  {
   "cell_type": "code",
   "execution_count": null,
   "id": "tracked-shoot",
   "metadata": {
    "autoscroll": false,
    "ein.hycell": false,
    "ein.tags": "worksheet-0",
    "slideshow": {
     "slide_type": "-"
    }
   },
   "outputs": [],
   "source": [
    "pyplot.plot(X, Y)"
   ]
  },
  {
   "cell_type": "code",
   "execution_count": null,
   "id": "difficult-updating",
   "metadata": {
    "autoscroll": false,
    "ein.hycell": false,
    "ein.tags": "worksheet-0",
    "slideshow": {
     "slide_type": "-"
    }
   },
   "outputs": [],
   "source": [
    "f1=numpy.fft.fft(Y); f2=brutus.mlft(Y)\n",
    "pyplot.plot(f1.real/256); \n",
    "pyplot.plot(f2.real)"
   ]
  },
  {
   "cell_type": "code",
   "execution_count": null,
   "id": "tender-factor",
   "metadata": {
    "autoscroll": false,
    "ein.hycell": false,
    "ein.tags": "worksheet-0",
    "slideshow": {
     "slide_type": "-"
    }
   },
   "outputs": [],
   "source": [
    "Yp=Y+numpy.random.normal(size=(5000, Y.size))"
   ]
  },
  {
   "cell_type": "code",
   "execution_count": null,
   "id": "reported-smile",
   "metadata": {},
   "outputs": [],
   "source": [
    "pyplot.plot(Yp[0])"
   ]
  },
  {
   "cell_type": "code",
   "execution_count": null,
   "id": "needed-bones",
   "metadata": {},
   "outputs": [],
   "source": [
    "%timeit f3=brutus.mlft(Yp)"
   ]
  },
  {
   "cell_type": "code",
   "execution_count": null,
   "id": "legal-zealand",
   "metadata": {},
   "outputs": [],
   "source": [
    "pyplot.plot(f3.real)"
   ]
  },
  {
   "cell_type": "code",
   "execution_count": null,
   "id": "unauthorized-jenny",
   "metadata": {},
   "outputs": [],
   "source": [
    "# %timeit f4=brutus.mlft(Yp, lfn=\"Cauchy\")\n",
    "f4=brutus.mlft(Yp, lfn=\"Cauchy\")"
   ]
  },
  {
   "cell_type": "code",
   "execution_count": null,
   "id": "needed-highway",
   "metadata": {},
   "outputs": [],
   "source": [
    "pyplot.plot(f4.real)"
   ]
  },
  {
   "cell_type": "code",
   "execution_count": null,
   "id": "external-rescue",
   "metadata": {},
   "outputs": [],
   "source": []
  }
 ],
 "metadata": {
  "kernelspec": {
   "display_name": "Python 3",
   "language": "python",
   "name": "python3"
  },
  "language_info": {
   "codemirror_mode": {
    "name": "ipython",
    "version": 3
   },
   "file_extension": ".py",
   "mimetype": "text/x-python",
   "name": "python",
   "nbconvert_exporter": "python",
   "pygments_lexer": "ipython3",
   "version": "3.8.5"
  },
  "name": "BrutusExampleSimple.ipynb"
 },
 "nbformat": 4,
 "nbformat_minor": 5
}
